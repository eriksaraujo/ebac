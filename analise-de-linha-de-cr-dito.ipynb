{
 "cells": [
  {
   "cell_type": "markdown",
   "id": "1b991d1a",
   "metadata": {
    "papermill": {
     "duration": 0.001966,
     "end_time": "2025-09-09T00:47:24.301251",
     "exception": false,
     "start_time": "2025-09-09T00:47:24.299285",
     "status": "completed"
    },
    "tags": []
   },
   "source": [
    "# Análise de Linhas de Crédito\n",
    "\n",
    "Este notebook tem como objetivo analisar o perfil dos clientes \n",
    "e o comportamento de uso do crédito com base nas variáveis fornecidas.      O perfil dos clientes foram analisados de acordo com os seguintes dados extraidos:\n",
    "\n",
    "1. idade = idade do cliente\n",
    "2. sexo = sexo do cliente (F ou M)\n",
    "3. dependentes = número de dependentes do cliente\n",
    "4. escolaridade = nível de escolaridade do clientes\n",
    "5. salario_anual = faixa salarial do cliente\n",
    "6. tipo_cartao = tipo de cartao do cliente\n",
    "7. qtd_produtos = quantidade de produtos comprados nos últimos 12 meses\n",
    "8. iteracoes_12m = quantidade de iterações/transacoes nos ultimos 12 meses\n",
    "9. meses_inativo_12m = quantidade de meses que o cliente ficou inativo\n",
    "10. limite_credito = limite de credito do cliente\n",
    "11. valor_transacoes_12m = valor das transações dos ultimos 12 meses\n",
    "12. qtd_transacoes_12m = quantidade de transacoes dos ultimos 12 meses\n",
    "\n",
    "Tabela extraida: https://github.com/andre-marcos-perez/ebac-course-utils/tree/main/dataset\n",
    "\n",
    "As analises foram feitas com AWS e S3 Bucket. \n",
    "\n",
    "## Vamos explorar os dados?\n",
    "\n",
    "**Perguntas que vamos investigar:**\n",
    "- Qual a relação entre **idade** e limite de crédito?\n",
    "- O **tipo de cartão** influencia na quantidade de transações?\n",
    "- Clientes com mais **dependentes** apresentam maior valor de transações?"
   ]
  },
  {
   "cell_type": "markdown",
   "id": "658a30b1",
   "metadata": {
    "papermill": {
     "duration": 0.001082,
     "end_time": "2025-09-09T00:47:24.304001",
     "exception": false,
     "start_time": "2025-09-09T00:47:24.302919",
     "status": "completed"
    },
    "tags": []
   },
   "source": [
    "### Relação entre idade e limite de crédito\n",
    "\n",
    "![](https://github.com/eriksaraujo/ebac/blob/main/faixa%20etaria%20x%20limite.jpg?raw=true/)\n",
    "\n",
    "![](https://github.com/eriksaraujo/ebac/blob/main/limite%20medio%20grafico.jpg?raw=true/)\n",
    "\n",
    "Ao analisar os clientes por faixas de idade, percebe-se que:\n",
    "\n",
    "- Entre **25 e 40 anos**, o limite médio de crédito é de aproximadamente R$ 7.773.\n",
    "\n",
    "- Na faixa de **41 a 60 anos**, o limite atinge o maior valor, em torno de R$ 10.274.\n",
    "\n",
    "- Já para clientes **acima de 60 anos**, observa-se uma queda significativa, com limite médio de cerca de R$ 5.389.\n",
    "\n",
    "**Interpretação:** os resultados sugerem que o limite de crédito cresce com a idade até os 60 anos, refletindo maior estabilidade financeira. Após os 60, há uma redução, possivelmente relacionada à aposentadoria e à diminuição da renda recorrente.\n",
    "\n",
    "\n",
    "### O tipo de cartão influencia na quantidade de transações?\n",
    "![](https://github.com/eriksaraujo/ebac/blob/main/transacao%20aws.jpg?raw=true/)\n",
    "\n",
    "![](https://github.com/eriksaraujo/ebac/blob/main/cartao%20transacao.jpg?raw=true/)\n",
    "\n",
    "Ao analisar os tipos de cartões:\n",
    "\n",
    "**Gold** → maior média de transações (47), mas só 16 clientes.\n",
    "\n",
    "**Silver** → média de 44, com 93 clientes, um grupo um pouco maior.\n",
    "\n",
    "**Blue** → média de 42, mas com 2.453 clientes, ou seja, é o cartão dominante na base.\n",
    "\n",
    "**Platinum** → menor média (34), mas só 2 clientes → estatisticamente irrelevante.\n",
    "\n",
    "**Interpretação**:\n",
    "há indícios de que cartões superiores (Gold e Silver) tenham médias ligeiramente maiores de transações do que o Blue, mas o efeito não é muito forte. O que mais pesa é a distribuição da base — e como quase todo mundo tem Blue, esse cartão define o padrão.\n",
    "\n",
    "\n",
    "### Clientes com mais dependentes apresentam maior valor de transações?\n",
    "\n",
    "![](https://github.com/eriksaraujo/ebac/blob/main/m%C3%A9dica%20dependentes.jpg?raw=true/)\n",
    "\n",
    "![](https://github.com/eriksaraujo/ebac/blob/main/graficos%20dependentes.jpg?raw=true/)\n",
    "\n",
    "**Sem dependentes:** limite médio de transações mais alto, em torno de R$ 1.936.\n",
    "\n",
    "**1 dependente:** média cai para R$ 1.851.\n",
    "\n",
    "**2 dependentes:** média de R$ 1.805.\n",
    "\n",
    "**3 dependentes:** média de R$ 1.797.\n",
    "\n",
    "**4 dependentes:** média de R$ 1.769.\n",
    "\n",
    "**5 dependentes:** valor ainda menor, em torno de R$ 1.600.\n",
    "\n",
    "**Interpretação**:\n",
    "Os resultados sugerem que quanto maior o número de dependentes, menor tende a ser o valor médio de transações anuais.\n",
    "Isso pode indicar que:\n",
    "Clientes sem dependentes concentram gastos individuais em valores mais altos.\n",
    "Já clientes com dependentes podem ter seus recursos distribuídos em várias despesas, o que reduz o valor médio por transação (apesar de possivelmente haver maior frequência de compras).\n",
    "A queda é mais acentuada a partir de 4 dependentes, onde o valor médio fica bem abaixo da média geral.\n",
    "\n",
    "\n",
    "### Conclusão:\n",
    "Os dados sugerem que o comportamento de crédito e transações dos clientes está ligado a fatores de ciclo de vida e perfil socioeconômico:\n",
    "A idade define a evolução do limite de crédito.\n",
    "O tipo de cartão influencia a intensidade de uso, mas de forma moderada.\n",
    "O número de dependentes impacta negativamente o valor médio de transações, refletindo maior dispersão de gastos."
   ]
  },
  {
   "cell_type": "code",
   "execution_count": null,
   "id": "72eec4bd",
   "metadata": {
    "papermill": {
     "duration": 0.001194,
     "end_time": "2025-09-09T00:47:24.306466",
     "exception": false,
     "start_time": "2025-09-09T00:47:24.305272",
     "status": "completed"
    },
    "tags": []
   },
   "outputs": [],
   "source": []
  }
 ],
 "metadata": {
  "kaggle": {
   "accelerator": "none",
   "dataSources": [],
   "dockerImageVersionId": 31089,
   "isGpuEnabled": false,
   "isInternetEnabled": false,
   "language": "python",
   "sourceType": "notebook"
  },
  "kernelspec": {
   "display_name": "Python 3",
   "language": "python",
   "name": "python3"
  },
  "language_info": {
   "codemirror_mode": {
    "name": "ipython",
    "version": 3
   },
   "file_extension": ".py",
   "mimetype": "text/x-python",
   "name": "python",
   "nbconvert_exporter": "python",
   "pygments_lexer": "ipython3",
   "version": "3.11.13"
  },
  "papermill": {
   "default_parameters": {},
   "duration": 5.718178,
   "end_time": "2025-09-09T00:47:24.726545",
   "environment_variables": {},
   "exception": null,
   "input_path": "__notebook__.ipynb",
   "output_path": "__notebook__.ipynb",
   "parameters": {},
   "start_time": "2025-09-09T00:47:19.008367",
   "version": "2.6.0"
  }
 },
 "nbformat": 4,
 "nbformat_minor": 5
}
